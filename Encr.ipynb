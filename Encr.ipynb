{
 "cells": [
  {
   "cell_type": "markdown",
   "id": "62f90197-24f1-4e40-9806-426a575c3862",
   "metadata": {},
   "source": [
    "# Encryption demo from \n",
    "https://nitratine.net/blog/post/asymmetric-encryption-and-decryption-in-python/\n",
    "\n",
    "https://stackoverflow.com/questions/51228645/how-can-i-encrypt-with-a-rsa-private-key-in-python\n",
    "https://cryptography.io/en/latest/hazmat/primitives/asymmetric/rsa/"
   ]
  },
  {
   "cell_type": "markdown",
   "id": "f4336811-33f1-4f3a-b7fe-9a78545e6223",
   "metadata": {},
   "source": [
    "## Create keys"
   ]
  },
  {
   "cell_type": "code",
   "execution_count": 9,
   "id": "d77b39c8-5e52-4fe2-a0bb-646d252db8df",
   "metadata": {},
   "outputs": [],
   "source": [
    "from cryptography.hazmat.backends import default_backend\n",
    "from cryptography.hazmat.primitives.asymmetric import rsa\n",
    "\n",
    "private_key = rsa.generate_private_key(\n",
    "    public_exponent=65537,\n",
    "    key_size=2048,\n",
    "    backend=default_backend()\n",
    ")\n",
    "public_key = private_key.public_key()"
   ]
  },
  {
   "cell_type": "markdown",
   "id": "d788337b-0cc5-48c0-a1db-19d3a5fa9990",
   "metadata": {},
   "source": [
    "## Save private/public keys on files"
   ]
  },
  {
   "cell_type": "code",
   "execution_count": 10,
   "id": "7a38ddcc-d0eb-4667-abaa-3ee3fd1248f4",
   "metadata": {},
   "outputs": [],
   "source": [
    "from cryptography.hazmat.primitives import serialization\n",
    "#private_key = ... # Placeholder - you generated this before\n",
    "\n",
    "pem = private_key.private_bytes(\n",
    "    encoding=serialization.Encoding.PEM,\n",
    "    format=serialization.PrivateFormat.PKCS8,\n",
    "    encryption_algorithm=serialization.NoEncryption()\n",
    ")\n",
    "\n",
    "with open('private_key.pem', 'wb') as f:\n",
    "    f.write(pem)"
   ]
  },
  {
   "cell_type": "code",
   "execution_count": 11,
   "id": "7b4d30ef-87ce-4ea9-a29f-2133ec640012",
   "metadata": {},
   "outputs": [],
   "source": [
    "#from cryptography.hazmat.primitives import serialization\n",
    "#public_key = ... # Placeholder - you generated this before\n",
    "\n",
    "pem = public_key.public_bytes(\n",
    "    encoding=serialization.Encoding.PEM,\n",
    "    format=serialization.PublicFormat.SubjectPublicKeyInfo\n",
    ")\n",
    "\n",
    "with open('public_key.pem', 'wb') as f:\n",
    "    f.write(pem)"
   ]
  },
  {
   "cell_type": "markdown",
   "id": "679edc4d-8689-4f4c-bcd7-97892d97559d",
   "metadata": {},
   "source": [
    "## Get private/public keys from files"
   ]
  },
  {
   "cell_type": "code",
   "execution_count": 12,
   "id": "64dba333-dfeb-4840-a8d8-167e3c8ba6a5",
   "metadata": {},
   "outputs": [],
   "source": [
    "#from cryptography.hazmat.backends import default_backend\n",
    "#from cryptography.hazmat.primitives import serialization\n",
    "\n",
    "with open(\"private_key.pem\", \"rb\") as key_file:\n",
    "    private_key = serialization.load_pem_private_key(\n",
    "        key_file.read(),\n",
    "        password=None,\n",
    "        backend=default_backend()\n",
    "    )"
   ]
  },
  {
   "cell_type": "code",
   "execution_count": 13,
   "id": "f0bb20fe-6c84-414c-a72a-dbdcb4dc4dd2",
   "metadata": {},
   "outputs": [],
   "source": [
    "#from cryptography.hazmat.backends import default_backend\n",
    "#from cryptography.hazmat.primitives import serialization\n",
    "\n",
    "with open(\"public_key.pem\", \"rb\") as key_file:\n",
    "    public_key = serialization.load_pem_public_key(\n",
    "        key_file.read(),\n",
    "        backend=default_backend()\n",
    "    )"
   ]
  },
  {
   "cell_type": "markdown",
   "id": "4d428aab-1414-4273-a2e4-f40997ebe137",
   "metadata": {},
   "source": [
    "## Encrypting"
   ]
  },
  {
   "cell_type": "code",
   "execution_count": null,
   "id": "c743fc58-1f51-467e-9af4-0bb9b2ddffec",
   "metadata": {},
   "outputs": [],
   "source": [
    "from cryptography.hazmat.primitives import hashes\n",
    "from cryptography.hazmat.primitives.asymmetric import padding\n",
    "\n",
    "message = b'encrypt me!'\n",
    "#public_key = ... # Use one of the methods above to get your public key\n",
    "\n",
    "encrypted = public_key.encrypt(\n",
    "    message,\n",
    "    padding.OAEP(\n",
    "        mgf=padding.MGF1(algorithm=hashes.SHA256()),\n",
    "        algorithm=hashes.SHA256(),\n",
    "        label=None\n",
    "    )\n",
    ")"
   ]
  },
  {
   "cell_type": "markdown",
   "id": "e8a1886a-8118-4183-ab57-566a506d566d",
   "metadata": {},
   "source": [
    "## Decrypting"
   ]
  },
  {
   "cell_type": "code",
   "execution_count": null,
   "id": "1c6bbba2-81c0-4836-988e-e1d6ff1f4b7c",
   "metadata": {},
   "outputs": [],
   "source": [
    "#from cryptography.hazmat.primitives import hashes\n",
    "#from cryptography.hazmat.primitives.asymmetric import padding\n",
    "\n",
    "#encrypted = ... # From before (could have been stored then read back here)\n",
    "#private_key = ... # Use one of the methods above to get your public key (matches the public_key)\n",
    "\n",
    "original_message = private_key.decrypt(\n",
    "    encrypted,\n",
    "    padding.OAEP(\n",
    "        mgf=padding.MGF1(algorithm=hashes.SHA256()),\n",
    "        algorithm=hashes.SHA256(),\n",
    "        label=None\n",
    "    )\n",
    ")"
   ]
  },
  {
   "cell_type": "markdown",
   "id": "aac71926-d5ad-4d1b-86db-e041e17080c3",
   "metadata": {},
   "source": [
    "## Encrypting and decrypting files"
   ]
  },
  {
   "cell_type": "code",
   "execution_count": null,
   "id": "18bf681b-d7b6-439a-bed8-1f168e9eb4c5",
   "metadata": {},
   "outputs": [],
   "source": [
    "f = open('test.txt', 'rb')\n",
    "message = f.read()\n",
    "f.close()"
   ]
  },
  {
   "cell_type": "code",
   "execution_count": null,
   "id": "28395e82-d924-4d5e-a796-3967b7a6dbe5",
   "metadata": {},
   "outputs": [],
   "source": [
    "encrypted = 'data from encryption'\n",
    "f = open('test.encrypted', 'wb')\n",
    "f.write(encrypted)\n",
    "f.close()"
   ]
  },
  {
   "cell_type": "markdown",
   "id": "de5609ba-50ab-4f24-ba11-70c787f36a14",
   "metadata": {},
   "source": [
    "# Test"
   ]
  },
  {
   "cell_type": "code",
   "execution_count": 1,
   "id": "8573594a-4e84-47fc-bff1-af027d915b15",
   "metadata": {},
   "outputs": [],
   "source": [
    "from cryptography.hazmat.backends import default_backend\n",
    "from cryptography.hazmat.primitives.asymmetric import rsa\n",
    "from cryptography.hazmat.primitives import serialization\n",
    "from cryptography.hazmat.primitives import hashes\n",
    "from cryptography.hazmat.primitives.asymmetric import padding"
   ]
  },
  {
   "cell_type": "code",
   "execution_count": 2,
   "id": "e45a8b72-d226-43d5-906e-762dbf945c7b",
   "metadata": {},
   "outputs": [],
   "source": [
    "\"\"\"\n",
    "Creates the keys in files\n",
    "n is an int to use as id for the keys\n",
    "\"\"\"\n",
    "def create_keys(n):\n",
    "    #Create the keys\n",
    "    private_key = rsa.generate_private_key(\n",
    "        public_exponent=65537,\n",
    "        key_size=2048,\n",
    "        backend=default_backend()\n",
    "    )\n",
    "    public_key = private_key.public_key()\n",
    "    \n",
    "    #Store the keys\n",
    "    pem = private_key.private_bytes(\n",
    "        encoding=serialization.Encoding.PEM,\n",
    "        format=serialization.PrivateFormat.PKCS8,\n",
    "        encryption_algorithm=serialization.NoEncryption()\n",
    "    )\n",
    "    with open('private_key_'+str(n)+'.pem', 'wb') as f:\n",
    "        f.write(pem)\n",
    "        \n",
    "    pem = public_key.public_bytes(\n",
    "        encoding=serialization.Encoding.PEM,\n",
    "        format=serialization.PublicFormat.SubjectPublicKeyInfo\n",
    "    )\n",
    "\n",
    "    with open('public_key_'+str(n)+'.pem', 'wb') as f:\n",
    "        f.write(pem)"
   ]
  },
  {
   "cell_type": "code",
   "execution_count": 3,
   "id": "c7166e38-46b9-4a60-9873-a7134db6ae26",
   "metadata": {},
   "outputs": [],
   "source": [
    "\"\"\"\n",
    "Function to retrieve the keys from the files using int n to identify them\n",
    "returns tuple of private and public keys\n",
    "\"\"\"\n",
    "def get_keys(n):\n",
    "    with open('private_key_'+str(n)+'.pem', \"rb\") as key_file:\n",
    "        private_key = serialization.load_pem_private_key(\n",
    "            key_file.read(),\n",
    "            password=None,\n",
    "            backend=default_backend()\n",
    "        )\n",
    "    with open('public_key_'+str(n)+'.pem', \"rb\") as key_file:\n",
    "        public_key = serialization.load_pem_public_key(\n",
    "            key_file.read(),\n",
    "            backend=default_backend()\n",
    "        )\n",
    "    return (private_key,public_key)"
   ]
  },
  {
   "cell_type": "code",
   "execution_count": 4,
   "id": "37ad4c55-56f9-4e5a-a1d0-e5ce772d9952",
   "metadata": {},
   "outputs": [],
   "source": [
    "\"\"\"\n",
    "Sign a file with sender private key \n",
    "\"\"\"\n",
    "def sign_file(file,sender):\n",
    "    f = open(file, 'rb')\n",
    "    message = f.read()\n",
    "    f.close()\n",
    "    #sender private key\n",
    "    encrypted = get_keys(sender)[0].sign(\n",
    "        message,\n",
    "        padding.PSS(\n",
    "            mgf=padding.MGF1(hashes.SHA256()),\n",
    "            salt_length=padding.PSS.MAX_LENGTH\n",
    "        ),\n",
    "        hashes.SHA256()\n",
    "    )\n",
    "    f = open('signature.bin', 'wb')\n",
    "    f.write(encrypted)\n",
    "    f.close()"
   ]
  },
  {
   "cell_type": "code",
   "execution_count": 5,
   "id": "d4214e0d-1037-4f6d-abee-11c708de2930",
   "metadata": {},
   "outputs": [],
   "source": [
    "\"\"\"\n",
    "Verify a singature with sender public key\n",
    "\"\"\"\n",
    "def verify_signature(file,sender):\n",
    "    f = open('signature.bin', 'rb')\n",
    "    signature = f.read()\n",
    "    f.close()\n",
    "    \n",
    "    f = open(file, 'rb')\n",
    "    original_message = f.read()\n",
    "    f.close()\n",
    "    try:\n",
    "        original_message2 = get_keys(sender)[1].verify(\n",
    "            signature,\n",
    "            original_message,\n",
    "            padding.PSS(\n",
    "                mgf=padding.MGF1(hashes.SHA256()),\n",
    "                salt_length=padding.PSS.MAX_LENGTH\n",
    "            ),\n",
    "            hashes.SHA256()\n",
    "        )\n",
    "        pass\n",
    "    except:\n",
    "        print(\"Invalid signature!\")\n",
    "        pass\n",
    "    else:\n",
    "        print(\"Validated signature!\")\n",
    "        pass"
   ]
  },
  {
   "cell_type": "code",
   "execution_count": 6,
   "id": "9bdb5559-1a21-4efa-a8dc-3a3d1ecf680f",
   "metadata": {},
   "outputs": [],
   "source": [
    "create_keys(1)\n",
    "create_keys(2)"
   ]
  },
  {
   "cell_type": "code",
   "execution_count": 7,
   "id": "2828b0da-a865-4cff-9ad2-a85223459ff5",
   "metadata": {},
   "outputs": [
    {
     "name": "stdout",
     "output_type": "stream",
     "text": [
      "(<cryptography.hazmat.backends.openssl.rsa._RSAPrivateKey object at 0x0000029A922DDEB0>, <cryptography.hazmat.backends.openssl.rsa._RSAPublicKey object at 0x0000029A922DDE20>)\n",
      "(<cryptography.hazmat.backends.openssl.rsa._RSAPrivateKey object at 0x0000029A922DDE80>, <cryptography.hazmat.backends.openssl.rsa._RSAPublicKey object at 0x0000029A922DDCD0>)\n"
     ]
    }
   ],
   "source": [
    "print(get_keys(1))\n",
    "print(get_keys(2))"
   ]
  },
  {
   "cell_type": "code",
   "execution_count": 11,
   "id": "0ded4260-456a-4e2d-9756-05a739b1b077",
   "metadata": {},
   "outputs": [],
   "source": [
    "sign_file('Document.txt',2)"
   ]
  },
  {
   "cell_type": "code",
   "execution_count": 12,
   "id": "795f660d-0600-46c1-b6a8-8bb8a089b321",
   "metadata": {},
   "outputs": [
    {
     "name": "stdout",
     "output_type": "stream",
     "text": [
      "Validated signature!\n"
     ]
    }
   ],
   "source": [
    "verify_signature('Document.txt',2)"
   ]
  },
  {
   "cell_type": "code",
   "execution_count": null,
   "id": "0f3c41dc-c137-41bf-9eb5-941e2aaaadc8",
   "metadata": {},
   "outputs": [],
   "source": []
  }
 ],
 "metadata": {
  "kernelspec": {
   "display_name": "Python 3",
   "language": "python",
   "name": "python3"
  },
  "language_info": {
   "codemirror_mode": {
    "name": "ipython",
    "version": 3
   },
   "file_extension": ".py",
   "mimetype": "text/x-python",
   "name": "python",
   "nbconvert_exporter": "python",
   "pygments_lexer": "ipython3",
   "version": "3.9.0"
  }
 },
 "nbformat": 4,
 "nbformat_minor": 5
}
